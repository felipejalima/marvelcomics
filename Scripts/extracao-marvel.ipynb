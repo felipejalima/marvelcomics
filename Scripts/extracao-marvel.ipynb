{
 "cells": [
  {
   "cell_type": "code",
   "execution_count": 1,
   "metadata": {},
   "outputs": [],
   "source": [
    "from marvel import Marvel"
   ]
  },
  {
   "cell_type": "code",
   "execution_count": 4,
   "metadata": {},
   "outputs": [],
   "source": [
    "m = Marvel(\"513f159761f71f417ff05376877b9c95\", \"05a8ddef6d030504d2086ca9dec62fa38027e9da\")"
   ]
  },
  {
   "cell_type": "code",
   "execution_count": 5,
   "metadata": {},
   "outputs": [
    {
     "name": "stdout",
     "output_type": "stream",
     "text": [
      "Avengers: The Initiative (2007) #18 (ZOMBIE VARIANT)\n",
      "Avengers: The Initiative (2007) #18\n",
      "Avengers: The Initiative (2007) #17\n",
      "Avengers: The Initiative (2007) #16\n",
      "Avengers: The Initiative (2007) #15\n",
      "Avengers: The Initiative (2007) #14\n",
      "Avengers: The Initiative (2007) #14 (SPOTLIGHT VARIANT)\n",
      "Deadpool (1997) #44\n",
      "Marvel Premiere (1972) #37\n",
      "Marvel Premiere (1972) #36\n",
      "Marvel Premiere (1972) #35\n",
      "Jessica Jones Vol. 2: The Secrets of Maria Hill (Trade Paperback)\n",
      "Avengers: Standoff (Trade Paperback)\n",
      "Indestructible Hulk by Mark Waid: The Complete Collection (Trade Paperback)\n",
      "Jessica Jones (2016) #12\n",
      "Jessica Jones (2016) #11\n",
      "Jessica Jones (2016) #10\n",
      "Jessica Jones (2016) #9\n",
      "Jessica Jones (2016) #8\n",
      "CAPTAIN AMERICA: STEVE ROGERS VOL. 2 - THE TRIAL OF MARIA HILL TPB (Trade Paperback)\n",
      "Captain America: Steve Rogers (2016) #9\n",
      "Captain America: Steve Rogers (2016) #7\n",
      "New Mutants Epic Collection: The End Of The Beginning (Trade Paperback)\n",
      "New Mutants (2019) #26\n",
      "New Mutants (2019) #25\n",
      "New Mutants (2019) #24\n",
      "X-Men Legends (2021) #11\n",
      "New Mutants (2019) #23\n",
      "New Mutants (2019) #22\n",
      "New Mutants (2019) #21\n",
      "Reign Of X Vol. 2 (Trade Paperback)\n",
      "New Mutants (2019) #20\n",
      "New Mutants (2019) #19\n",
      "Ultimate X-Men (2001) #96\n",
      "Ultimate X-Men (2001) #95\n",
      "Ultimate X-Men (2001) #94\n",
      "Ultimate X-Men (2001) #93\n",
      "Ultimate X-Men (2001) #91\n",
      "Ultimate X-Men (2001) #82\n",
      "Ultimate X-Men Vol. 14: Phoenix? (Trade Paperback)\n",
      "Ultimate X-Men Annual (2005) #2\n",
      "Ultimate X-Men (2001) #70\n",
      "ULTIMATE X-MEN/FANTASTIC FOUR TPB (Trade Paperback)\n",
      "Ultimate X-Men (2001) #67\n",
      "Ultimate X-Men (2001) #97\n",
      "Ultimate X-Men (2001) #96\n",
      "Ultimate X-Men (2001) #95\n",
      "Ultimate X-Men (2001) #94\n",
      "Ultimate X-Men (2001) #93\n",
      "Ultimate X-Men (2001) #91\n",
      "Ultimate X-Men (2001) #86\n",
      "Ultimate X-Men Vol. 14: Phoenix? (Trade Paperback)\n",
      "Ultimate X-Men (2001) #70\n",
      "Ultimate X-Men (2001) #69\n",
      "Ultimate X-Men (2001) #65\n",
      "Ultimates 2 (2016) #9\n",
      "Ultimates 2 Vol. 1: Troubleshooters (Trade Paperback)\n",
      "Ultimates 2 (2016) #7\n",
      "Ultimates 2 (2016) #6\n",
      "Ultimates 2 (2016) #4\n",
      "Ultimates 2 (2016) #2\n",
      "Ultimates 2 (2016) #1\n",
      "Ultimates (2015) #12\n",
      "Ultimates (2015) #11\n",
      "Ultimates (2015) #10\n",
      "Ultimates (2015) #9\n"
     ]
    }
   ],
   "source": [
    "# getting the characters object\n",
    "characters = m.characters \n",
    "  \n",
    "# serial code of your favourite character\n",
    "# this can be different according to your preference\n",
    "x = 1011334 \n",
    "for n in range (0, 6): \n",
    "    \n",
    "      # serach for comics of this character\n",
    "    all_characters=characters.comics(x) \n",
    "      \n",
    "    x = x+1 \n",
    "    for i in range (1,12):\n",
    "      print(all_characters['data']['results'][int(i)]['title'])"
   ]
  }
 ],
 "metadata": {
  "kernelspec": {
   "display_name": "Python 3.10.5 64-bit",
   "language": "python",
   "name": "python3"
  },
  "language_info": {
   "codemirror_mode": {
    "name": "ipython",
    "version": 3
   },
   "file_extension": ".py",
   "mimetype": "text/x-python",
   "name": "python",
   "nbconvert_exporter": "python",
   "pygments_lexer": "ipython3",
   "version": "3.10.5"
  },
  "orig_nbformat": 4,
  "vscode": {
   "interpreter": {
    "hash": "dcec29a340f674932ed50c03317741f38ec64b5eb887958f6b1eb48f0765fade"
   }
  }
 },
 "nbformat": 4,
 "nbformat_minor": 2
}
